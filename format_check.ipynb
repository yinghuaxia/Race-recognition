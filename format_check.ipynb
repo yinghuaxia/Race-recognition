{
 "cells": [
  {
   "cell_type": "markdown",
   "metadata": {},
   "source": [
    "### Check the coordinate of json"
   ]
  },
  {
   "cell_type": "code",
   "execution_count": null,
   "metadata": {},
   "outputs": [],
   "source": [
    "import os\n",
    "import json\n",
    "\n",
    "folder_path = r'training - fullVideo\\json'\n",
    "\n",
    "for file_name in os.listdir(folder_path):\n",
    "    if file_name.endswith('.json'):\n",
    "        json_file_path = os.path.join(folder_path, file_name)\n",
    "        \n",
    "        with open(json_file_path, 'r', encoding='utf-8') as file:\n",
    "            data = json.load(file)\n",
    "        \n",
    "        boxes = data[\"bboxes\"]\n",
    "        modified = False\n",
    "        \n",
    "        for box in boxes:\n",
    "            if box[0] > 288:\n",
    "                print(f\"{file_name} has x > 288\")\n",
    "                box[0] = 288\n",
    "                modified = True\n",
    "            if box[1] > 208:\n",
    "                print(f\"{file_name} has y > 208\")\n",
    "                box[1] = 208\n",
    "                modified = True\n",
    "            if (box[0] + box[2] > 288):\n",
    "                print(f\"{file_name} has x + w > 288\")\n",
    "                box[2] = 288 - box[0]\n",
    "                modified = True\n",
    "            if (box[1] + box[3]) > 208:\n",
    "                print(f\"{file_name} has y + h > 208\")\n",
    "                box[3] = 208 - box[1]\n",
    "                modified = True\n",
    "            if box[0] < 0 or box[1] < 0 or box[2] < 0 or box[3] < 0:\n",
    "                print(f\"{file_name} has value < 0\")\n",
    "                box[0] = max(box[0], 0)\n",
    "                box[1] = max(box[1], 0)\n",
    "                box[2] = max(box[2], 0)\n",
    "                box[3] = max(box[3], 0)\n",
    "                modified = True\n",
    "            if box[4] != 1:\n",
    "                box[4] = 1\n",
    "                modified = True\n",
    "        if modified:\n",
    "            with open(json_file_path, 'w', encoding='utf-8') as file:\n",
    "                json.dump(data, file, ensure_ascii=False, indent=4)\n",
    "            print(f\"File {file_name} has been updated.\")\n",
    "\n",
    "print(\"Finish Checking\")\n"
   ]
  },
  {
   "cell_type": "markdown",
   "metadata": {},
   "source": [
    "### View whether the structure in json files is valid"
   ]
  },
  {
   "cell_type": "code",
   "execution_count": null,
   "metadata": {},
   "outputs": [],
   "source": [
    "import os\n",
    "import json\n",
    "\n",
    "folder_path = r'validation - fullVideo/json'\n",
    "\n",
    "def check_bboxes_structure(bboxes):\n",
    "    if not isinstance(bboxes, list):\n",
    "        return False\n",
    "    \n",
    "    for bbox in bboxes:\n",
    "        if not isinstance(bbox, (list, tuple)) or len(bbox) != 6:\n",
    "            return False\n",
    "        x, y, w, h, label, color = bbox\n",
    "        if not all(isinstance(i, int) for i in [x, y, w, h, label]):\n",
    "            return False\n",
    "        if not isinstance(color, str):\n",
    "            return False\n",
    "\n",
    "    return True\n",
    "\n",
    "for file_name in os.listdir(folder_path):\n",
    "    if file_name.endswith('.json'):\n",
    "        json_file_path = os.path.join(folder_path, file_name)\n",
    "        \n",
    "        with open(json_file_path, 'r', encoding='utf-8') as file:\n",
    "            data = json.load(file)\n",
    "        \n",
    "        bboxes = data.get(\"bboxes\", None)\n",
    "        if bboxes is None:\n",
    "            print(f\"{file_name}: 'bboxes' key is missing.\")\n",
    "        elif not check_bboxes_structure(bboxes):\n",
    "            print(f\"{file_name}: Invalid bboxes structure.\")\n"
   ]
  },
  {
   "cell_type": "markdown",
   "metadata": {},
   "source": [
    "### Modify invalid json file with wrong format and remove image/json with no face detected"
   ]
  },
  {
   "cell_type": "code",
   "execution_count": null,
   "metadata": {},
   "outputs": [],
   "source": [
    "import os\n",
    "import json\n",
    "\n",
    "image_path = r'validation - Fullvideo/'\n",
    "folder_path = os.path.join(image_path, 'json')\n",
    "for file_name in os.listdir(folder_path):\n",
    "    if file_name.endswith('.json'):\n",
    "        json_file_path = os.path.join(folder_path, file_name)\n",
    "        \n",
    "        # 讀取 JSON 檔案\n",
    "        with open(json_file_path, 'r', encoding='utf-8') as file:\n",
    "            data = json.load(file)\n",
    "        \n",
    "        if \"bboxes\" in data and isinstance(data[\"bboxes\"], list):\n",
    "            if len(data[\"bboxes\"]) > 0 and not isinstance(data[\"bboxes\"][0], list):\n",
    "                data[\"bboxes\"] = [data[\"bboxes\"]]\n",
    "                \n",
    "                with open(json_file_path, 'w', encoding='utf-8') as file:\n",
    "                    json.dump(data, file, ensure_ascii=False, indent=4)\n",
    "                \n",
    "                print(f\"Fixed format: {json_file_path}\")\n",
    "            if len(data['bboxes']) == 0:\n",
    "                print(f\"{file_name} is empty\")\n",
    "                os.remove(json_file_path)\n",
    "                jpg_path = os.path.join(image_path, file_name.split('.')[0] + '.jpg')\n",
    "                if os.path.exists(jpg_path):\n",
    "                    os.remove(jpg_path)\n",
    "        else:\n",
    "            print(f\"Invalid format or missing 'bboxes' key: {json_file_path}\")\n",
    "\n",
    "print(\"Finish Checking\")\n"
   ]
  },
  {
   "cell_type": "markdown",
   "metadata": {},
   "source": [
    "### Check the format of filename"
   ]
  },
  {
   "cell_type": "code",
   "execution_count": null,
   "metadata": {},
   "outputs": [],
   "source": [
    "import os\n",
    "\n",
    "folder_path = r'C\\validation - fullVideo'\n",
    "\n",
    "for filename in os.listdir(folder_path):\n",
    "    name, ext = os.path.splitext(filename)\n",
    "    if '.' in name or ' ' in name:\n",
    "        new_name = name.replace('.', '_')\n",
    "        new_name = new_name.replace(' ', '_')\n",
    "        new_filename = new_name + ext\n",
    "        os.rename(os.path.join(folder_path, filename), os.path.join(folder_path, new_filename))\n",
    "        print(f\"Renamed: {filename} -> {new_filename}\")\n",
    "\n",
    "print(\"Finish Checking\")"
   ]
  },
  {
   "cell_type": "markdown",
   "metadata": {},
   "source": [
    "### Check if the value of bounding box correspond to the format"
   ]
  },
  {
   "cell_type": "code",
   "execution_count": null,
   "metadata": {},
   "outputs": [],
   "source": [
    "import os\n",
    "import json\n",
    "\n",
    "folder_path = r'validation - fullVideo'\n",
    "json_path = os.path.join(folder_path, 'json')\n",
    "class_list = ['asian', 'indian', 'white', 'black']\n",
    "for file_name in os.listdir(json_path):\n",
    "    if file_name.endswith('.json'):\n",
    "        json_file_path = os.path.join(json_path, file_name)\n",
    "        \n",
    "        with open(json_file_path, 'r', encoding='utf-8') as file:\n",
    "            data = json.load(file)\n",
    "        \n",
    "        for box in data[\"bboxes\"]:\n",
    "            if not isinstance(box, list):\n",
    "                print(file_name)\n",
    "            box[0] = round(float(box[0]))\n",
    "            box[1] = round(float(box[1]))\n",
    "            box[2] = round(float(box[2]))\n",
    "            box[3] = round(float(box[3]))\n",
    "            box[4] = 1\n",
    "            if box[-1] == '' or box[-1] not in class_list:\n",
    "                print(json_file_path)\n",
    "\n",
    "print(\"Finish Checking\")\n"
   ]
  }
 ],
 "metadata": {
  "language_info": {
   "name": "python"
  }
 },
 "nbformat": 4,
 "nbformat_minor": 2
}
